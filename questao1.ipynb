{
 "cells": [
  {
   "cell_type": "code",
   "execution_count": 39,
   "metadata": {},
   "outputs": [
    {
     "name": "stdout",
     "output_type": "stream",
     "text": [
      "Resultado Final\n",
      "Dimensões ótimas (a, b, c): [0.25161768 0.46662247 0.27254916]\n",
      "Custo mínimo: 0.9395\n",
      "Número de iterações: 51\n",
      "Valor final da penalidade (u): 637621500.2140496\n"
     ]
    }
   ],
   "source": [
    "import numpy as np\n",
    "from scipy.optimize import minimize\n",
    "\n",
    "# Parâmetros do método das penalidades\n",
    "precisao = 1e-15  # Critério de parada\n",
    "u = 1  # Penalidade inicial\n",
    "alpha = 1.5  # Fator de crescimento da penalidade\n",
    "xlast = np.inf * np.ones(3)  # Último valor de x para verificar convergência\n",
    "iteracoes = 1  # Contador de iterações\n",
    "\n",
    "while True:\n",
    "\n",
    "    def func_penalidade(vars):\n",
    "        a, b, c = vars[0], vars[1], vars[2]\n",
    "        custo = 1.5 * (2*a*b + 2*a*c + 2*b*c)  # Função objetivo (área total da caixa)\n",
    "        \n",
    "        # Penalidades\n",
    "        penalidade = 0\n",
    "        penalidade += u * (a*b*c - 0.032)**2  # Restrição do volume (simétrica)\n",
    "        penalidade += u * max(0, 2*(a + b) - 1.5)**2  # Restrição do perímetro da base\n",
    "        penalidade += u * max(0, b - 3*a)**2  # Restrição largura/comprimento\n",
    "        penalidade += u * max(0, c - (2/3)*b)**2  # Restrição altura/largura\n",
    "        penalidade += u * max(0, a - 0.5)**2  # Limite superior do comprimento\n",
    "        penalidade += u * max(0, b - 0.5)**2  # Limite superior da largura\n",
    "        penalidade += u * max(0, -a)**2  # Limite inferior do comprimento\n",
    "        penalidade += u * max(0, -b)**2  # Limite inferior da largura\n",
    "        penalidade += u * max(0, -c)**2  # Limite inferior da altura\n",
    "\n",
    "        return custo + penalidade\n",
    "\n",
    "\n",
    "    # Ponto inicial\n",
    "    x0 = np.array([1,1,1], dtype=float)  # Comprimento, largura e altura iniciais\n",
    "\n",
    "    resultado = minimize(func_penalidade, x0, method='Nelder-Mead')\n",
    "    xopt = resultado.x  # Solução ótima atual\n",
    "    fopt = resultado.fun  # Valor da função objetivo\n",
    "\n",
    "    # Critério de parada com base na mudança percentual\n",
    "    if np.linalg.norm(xopt - xlast) / (1.0 + np.linalg.norm(xopt)) < precisao:\n",
    "        break\n",
    "\n",
    "    else:\n",
    "        xlast = xopt\n",
    "        u = alpha * u\n",
    "        iteracoes += 1\n",
    "\n",
    "# Exibe os resultados finais\n",
    "print(\"Resultado Final\")\n",
    "print(f\"Dimensões ótimas (a, b, c): {xopt}\")\n",
    "print(f\"Custo mínimo: {fopt:.4f}\")\n",
    "print(f\"Número de iterações: {iteracoes}\")\n",
    "print(f\"Valor final da penalidade (u): {u}\")\n"
   ]
  },
  {
   "cell_type": "code",
   "execution_count": 9,
   "metadata": {},
   "outputs": [
    {
     "name": "stderr",
     "output_type": "stream",
     "text": [
      "c:\\Users\\NTC-01\\AppData\\Local\\Programs\\Python\\Python39\\lib\\site-packages\\scipy\\optimize\\_trustregion_constr\\equality_constrained_sqp.py:80: UserWarning: Singular Jacobian matrix. Using SVD decomposition to perform the factorizations.\n",
      "  Z, LS, Y = projections(A, factorization_method)\n",
      "c:\\Users\\NTC-01\\AppData\\Local\\Programs\\Python\\Python39\\lib\\site-packages\\scipy\\optimize\\_differentiable_functions.py:504: UserWarning: delta_grad == 0.0. Check if the approximated function is linear. If the function is linear better results can be obtained by defining the Hessian as zero instead of using quasi-Newton approximations.\n",
      "  self.H.update(delta_x, delta_g)\n"
     ]
    },
    {
     "name": "stdout",
     "output_type": "stream",
     "text": [
      "Resultado Final\n",
      "Dimensões ótimas (a, b, c): [0.31318916 0.39148708 0.26099117]\n",
      "Custo mínimo: 0.9196\n",
      "Número de iterações: 258\n"
     ]
    }
   ],
   "source": [
    "import numpy as np\n",
    "from scipy.optimize import minimize\n",
    "\n",
    "# Definição da função objetivo\n",
    "def func_objetivo(vars):\n",
    "    a, b, c = vars[0], vars[1], vars[2]\n",
    "    return 1.5 * (2*a*b + 2*a*c + 2*b*c)  # Função objetivo (área total da caixa)\n",
    "\n",
    "# Definição das restrições\n",
    "constraints = [\n",
    "    {\"type\": \"eq\", \"fun\": lambda vars: vars[0] * vars[1] * vars[2] - 0.032},  # Restrição do volume\n",
    "    {\"type\": \"ineq\", \"fun\": lambda vars: 1.5 - 2 * (vars[0] + vars[1])},      # Restrição do perímetro da base\n",
    "    {\"type\": \"ineq\", \"fun\": lambda vars: 3 * vars[0] - vars[1]},             # Restrição largura/comprimento\n",
    "    {\"type\": \"ineq\", \"fun\": lambda vars: (2/3) * vars[1] - vars[2]},        # Restrição altura/largura\n",
    "    {\"type\": \"ineq\", \"fun\": lambda vars: 0.5 - vars[0]},                    # Limite superior do comprimento\n",
    "    {\"type\": \"ineq\", \"fun\": lambda vars: 0.5 - vars[1]},                    # Limite superior da largura\n",
    "    {\"type\": \"ineq\", \"fun\": lambda vars: vars[0]},                          # Limite inferior do comprimento\n",
    "    {\"type\": \"ineq\", \"fun\": lambda vars: vars[1]},                          # Limite inferior da largura\n",
    "    {\"type\": \"ineq\", \"fun\": lambda vars: vars[2]}                           # Limite inferior da altura\n",
    "]\n",
    "\n",
    "# Parâmetros iniciais\n",
    "x0 = np.array([0, 0, 0], dtype=float)  # Comprimento, largura e altura iniciais\n",
    "\n",
    "# Otimização\n",
    "resultado = minimize(func_objetivo, x0, method='trust-constr', constraints=constraints)\n",
    "\n",
    "# Exibe os resultados finais\n",
    "print(\"Resultado Final\")\n",
    "print(f\"Dimensões ótimas (a, b, c): {resultado.x}\")\n",
    "print(f\"Custo mínimo: {resultado.fun:.4f}\")\n",
    "print(f\"Número de iterações: {resultado.nit}\")\n"
   ]
  }
 ],
 "metadata": {
  "kernelspec": {
   "display_name": "Python 3",
   "language": "python",
   "name": "python3"
  },
  "language_info": {
   "codemirror_mode": {
    "name": "ipython",
    "version": 3
   },
   "file_extension": ".py",
   "mimetype": "text/x-python",
   "name": "python",
   "nbconvert_exporter": "python",
   "pygments_lexer": "ipython3",
   "version": "3.9.6"
  }
 },
 "nbformat": 4,
 "nbformat_minor": 2
}
